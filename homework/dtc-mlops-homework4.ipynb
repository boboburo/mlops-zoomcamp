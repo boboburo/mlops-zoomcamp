{
 "cells": [
  {
   "cell_type": "markdown",
   "id": "8dc09dd3",
   "metadata": {},
   "source": [
    "## Q1. Notebook\n",
    "\n",
    "We'll start with the same notebook we ended up with in homework 1.\n",
    "\n",
    "We cleaned it a little bit and kept only the scoring part. Now it's in [homework/starter.ipynb](homework/starter.ipynb).\n",
    "\n",
    "Run this notebook for the February 2021 FVH data.\n",
    "\n",
    "What's the mean predicted duration for this dataset?\n",
    "\n",
    "* 11.19\n",
    "* 16.19\n",
    "* 21.19\n",
    "* 26.19"
   ]
  },
  {
   "cell_type": "code",
   "execution_count": 2,
   "id": "91927c43",
   "metadata": {},
   "outputs": [
    {
     "data": {
      "text/plain": [
       "16.191691679979066"
      ]
     },
     "execution_count": 2,
     "metadata": {},
     "output_type": "execute_result"
    }
   ],
   "source": [
    "16.19169167997906621"
   ]
  },
  {
   "cell_type": "markdown",
   "id": "004278f9",
   "metadata": {},
   "source": [
    "## Q2. Preparing the output\n",
    "\n",
    "Like in the course videos, we want to prepare the dataframe with the output. \n",
    "\n",
    "First, let's create an artificial `ride_id` column:\n",
    "\n",
    "```python\n",
    "df['ride_id'] = f'{year:04d}/{month:02d}_' + df.index.astype('str')\n",
    "```\n",
    "\n",
    "Next, write the ride id and the predictions to a dataframe with results. \n",
    "\n",
    "Save it as parquet:\n",
    "\n",
    "```python\n",
    "df_result.to_parquet(\n",
    "    output_file,\n",
    "    engine='pyarrow',\n",
    "    compression=None,\n",
    "    index=False\n",
    ")\n",
    "```\n",
    "\n"
   ]
  },
  {
   "cell_type": "markdown",
   "id": "f29a6a8b",
   "metadata": {},
   "source": [
    "What's the size of the output file?\n",
    "\n",
    "9M\n",
    "19M\n",
    "29M\n",
    "39M\n",
    "Make sure you use the snippet above for saving the file. It should contain only these two columns. For this question, don't change the dtypes of the columns and use pyarrow, not fastparquet."
   ]
  },
  {
   "cell_type": "markdown",
   "id": "46d39309",
   "metadata": {},
   "source": [
    "19M"
   ]
  },
  {
   "cell_type": "code",
   "execution_count": null,
   "id": "dcdad741",
   "metadata": {},
   "outputs": [],
   "source": [
    "Q3 Creating scoring script \n",
    "\n",
    "What is the function for doing that "
   ]
  },
  {
   "cell_type": "code",
   "execution_count": null,
   "id": "7bb871f0",
   "metadata": {},
   "outputs": [],
   "source": [
    "jupyter nbconvert --to script starter.ipynb"
   ]
  }
 ],
 "metadata": {
  "kernelspec": {
   "display_name": "Python 3 (ipykernel)",
   "language": "python",
   "name": "python3"
  },
  "language_info": {
   "codemirror_mode": {
    "name": "ipython",
    "version": 3
   },
   "file_extension": ".py",
   "mimetype": "text/x-python",
   "name": "python",
   "nbconvert_exporter": "python",
   "pygments_lexer": "ipython3",
   "version": "3.9.12"
  }
 },
 "nbformat": 4,
 "nbformat_minor": 5
}
